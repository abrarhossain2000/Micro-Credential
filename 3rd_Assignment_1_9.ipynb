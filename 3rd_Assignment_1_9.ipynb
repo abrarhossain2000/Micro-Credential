{
  "nbformat": 4,
  "nbformat_minor": 0,
  "metadata": {
    "colab": {
      "name": "3rd Assignment 1/9.ipynb",
      "provenance": [],
      "collapsed_sections": [],
      "authorship_tag": "ABX9TyMV6ucdIcE5lvIG6RDfHgf7",
      "include_colab_link": true
    },
    "kernelspec": {
      "name": "python3",
      "display_name": "Python 3"
    }
  },
  "cells": [
    {
      "cell_type": "markdown",
      "metadata": {
        "id": "view-in-github",
        "colab_type": "text"
      },
      "source": [
        "<a href=\"https://colab.research.google.com/github/abrarhossain2000/Micro-Credential/blob/main/3rd_Assignment_1_9.ipynb\" target=\"_parent\"><img src=\"https://colab.research.google.com/assets/colab-badge.svg\" alt=\"Open In Colab\"/></a>"
      ]
    },
    {
      "cell_type": "markdown",
      "metadata": {
        "id": "0yP2VAoie6ke"
      },
      "source": [
        "1. Create a simple dictionary that stores 2 variables, for example: first and last name.\n",
        "2. Print out those variables stored in your previous dictionary."
      ]
    },
    {
      "cell_type": "code",
      "metadata": {
        "colab": {
          "base_uri": "https://localhost:8080/"
        },
        "id": "er8pq74ze8ep",
        "outputId": "1e34d350-949e-4545-9557-caf70457fc14"
      },
      "source": [
        "user = {'Abrar','Hossain'}\n",
        "print(user)"
      ],
      "execution_count": 20,
      "outputs": [
        {
          "output_type": "stream",
          "text": [
            "{'Abrar', 'Hossain'}\n"
          ],
          "name": "stdout"
        }
      ]
    },
    {
      "cell_type": "markdown",
      "metadata": {
        "id": "bRtCbfdZfPHH"
      },
      "source": [
        "3. Add a message to those variables on printing: for example: “Hello, firstname lastname!”"
      ]
    },
    {
      "cell_type": "code",
      "metadata": {
        "colab": {
          "base_uri": "https://localhost:8080/"
        },
        "id": "ZjVoNxbKiDHL",
        "outputId": "b4c59667-5e0c-46f1-97e4-5f9895977768"
      },
      "source": [
        "user = {'Abrar': 'firstname',\n",
        "        'Hossain': 'lastname'}\n",
        "for keys, value in user.items():\n",
        "  print(\"Hello, \" + keys + \"!\")"
      ],
      "execution_count": 6,
      "outputs": [
        {
          "output_type": "stream",
          "text": [
            "Hello, Abrar!\n",
            "Hello, Hossain!\n"
          ],
          "name": "stdout"
        }
      ]
    },
    {
      "cell_type": "markdown",
      "metadata": {
        "id": "XAdSaR9Oh_Pi"
      },
      "source": [
        "4. Create a dictionary that holds 2 key: value pairs:\n",
        "a. Look through your dictionary and print each pair,"
      ]
    },
    {
      "cell_type": "code",
      "metadata": {
        "colab": {
          "base_uri": "https://localhost:8080/"
        },
        "id": "oYtSOXh_gEju",
        "outputId": "0f68cf04-897b-4fbd-eb04-29b16fa418c9"
      },
      "source": [
        "user = {'Abrar': 'firstname',\n",
        "        'Hossain': 'lastname'}\n",
        "for k, v in user.items():\n",
        "  print(k + \"\\t\" + v)"
      ],
      "execution_count": 2,
      "outputs": [
        {
          "output_type": "stream",
          "text": [
            "Abrar\tfirstname\n",
            "Hossain\tlastname\n"
          ],
          "name": "stdout"
        }
      ]
    },
    {
      "cell_type": "markdown",
      "metadata": {
        "id": "iPFkKmRvkuH3"
      },
      "source": [
        "5.Create a nested dictionary containing three dictionaries – these dictionaries could be\n",
        "anything (favorite pets, travel locations, etc.)\n",
        "a. Loop through the dictionaries and print a message for each."
      ]
    },
    {
      "cell_type": "code",
      "metadata": {
        "colab": {
          "base_uri": "https://localhost:8080/"
        },
        "id": "GrWg7rcvkxwq",
        "outputId": "9c792c89-d04f-4da8-9424-1b98a6aa61bb"
      },
      "source": [
        "user = {'person1': {'lastname': 'Hossain', 'age':'20', 'dob': 'Oct'},\n",
        "        'person2': {'lastname': 'Singh', 'age':'22', 'dob': 'Apr'},\n",
        "        'person3': {'lastname': 'Sapia', 'age':'23', 'dob': 'Sept'}}\n",
        "print(user['person1']['lastname'] + ' age is ' + user['person1']['age'])\n",
        "print(user['person2']['lastname'] + ' age is ' + user['person2']['age'])\n",
        "print(user['person3']['lastname'] + ' age is ' + user['person3']['age'])"
      ],
      "execution_count": 31,
      "outputs": [
        {
          "output_type": "stream",
          "text": [
            "Hossain age is 20\n",
            "Singh age is 22\n",
            "Sapia age is 23\n"
          ],
          "name": "stdout"
        }
      ]
    }
  ]
}