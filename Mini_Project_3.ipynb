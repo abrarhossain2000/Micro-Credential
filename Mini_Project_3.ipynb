{
  "nbformat": 4,
  "nbformat_minor": 0,
  "metadata": {
    "colab": {
      "name": "Mini Project 3.ipynb",
      "provenance": [],
      "collapsed_sections": [],
      "authorship_tag": "ABX9TyMm/FnXvq88Ca6tDiaPFafz",
      "include_colab_link": true
    },
    "kernelspec": {
      "name": "python3",
      "display_name": "Python 3"
    }
  },
  "cells": [
    {
      "cell_type": "markdown",
      "metadata": {
        "id": "view-in-github",
        "colab_type": "text"
      },
      "source": [
        "<a href=\"https://colab.research.google.com/github/abrarhossain2000/Micro-Credential/blob/main/Mini_Project_3.ipynb\" target=\"_parent\"><img src=\"https://colab.research.google.com/assets/colab-badge.svg\" alt=\"Open In Colab\"/></a>"
      ]
    },
    {
      "cell_type": "code",
      "metadata": {
        "id": "VSzd1wV76SGX"
      },
      "source": [
        "#1\n",
        "#Setup environment\n",
        "import pandas as pd\n",
        "import numpy as np\n",
        "import matplotlib.pyplot as plt\n",
        "import seaborn as sns\n",
        "\n",
        "%matplotlib inline\n",
        "#Data important\n",
        "state_group = pd.read_csv('http://avijitroy.com/microCred6/covid.csv', index_col= None)\n",
        "state_group"
      ],
      "execution_count": null,
      "outputs": []
    },
    {
      "cell_type": "code",
      "metadata": {
        "id": "vLNpmR538HDV"
      },
      "source": [
        "nyc = df.groupby(['state']).count().sort_values(by = ['cases'], ascending = True)\n",
        "nyc"
      ],
      "execution_count": null,
      "outputs": []
    },
    {
      "cell_type": "code",
      "metadata": {
        "id": "SIm9akFR9IjW"
      },
      "source": [
        "#2\n",
        "#Check NY data\n",
        "ny_state = df[df['state'] == 'New York']\n",
        "ny_state"
      ],
      "execution_count": null,
      "outputs": []
    },
    {
      "cell_type": "code",
      "metadata": {
        "id": "JkRh4qUB-Sev"
      },
      "source": [
        "#3\n",
        "#Sort NY State data by county name\n",
        "ny_state.sort_values(by = ['county'],ascending = True)\n",
        "ny_state"
      ],
      "execution_count": null,
      "outputs": []
    },
    {
      "cell_type": "code",
      "metadata": {
        "id": "C56viXGx_FnI"
      },
      "source": [
        "#4\n",
        "#Get New York City Data\n",
        "nyc = df[df['county'] == 'New York City']\n",
        "nyc"
      ],
      "execution_count": null,
      "outputs": []
    },
    {
      "cell_type": "code",
      "metadata": {
        "id": "WNG7n_V2O8Jd"
      },
      "source": [
        "#5\n",
        "nyc['daily cases'] = nyc.cases.diff()\n",
        "nyc['daily deaths'] = nyc.deaths.diff()\n",
        "print(nyc)"
      ],
      "execution_count": null,
      "outputs": []
    },
    {
      "cell_type": "code",
      "metadata": {
        "id": "hfA4xR24fpTD"
      },
      "source": [
        "#6 \n",
        "#Another possiblity of NYC recent 30 Days data\n",
        "nyc_30days2 = nyc.sort_values(by=['date'], ascending=True)\n",
        "nyc_30days2.tail(30)"
      ],
      "execution_count": null,
      "outputs": []
    },
    {
      "cell_type": "code",
      "metadata": {
        "id": "yZAXP7aTc9sr"
      },
      "source": [
        "#6\n",
        "#NYC recent 30 Days data\n",
        "nyc_30days = df[(df['county'] == 'New York City') & (df['date'] >= '2020-12-14') & (df['date'] <= '2021-01-13')]\n",
        "nyc_30days"
      ],
      "execution_count": null,
      "outputs": []
    },
    {
      "cell_type": "code",
      "metadata": {
        "id": "mvO6J96DhJ_-"
      },
      "source": [
        "df.groupby(['state']) ['cases'].count().plot(kind=\"pie\")"
      ],
      "execution_count": null,
      "outputs": []
    },
    {
      "cell_type": "code",
      "metadata": {
        "id": "BxiaoOz4poA0"
      },
      "source": [
        "nyc_30days.groupby(['date']) ['cases'].count().plot(kind=\"bar\")"
      ],
      "execution_count": null,
      "outputs": []
    },
    {
      "cell_type": "code",
      "metadata": {
        "id": "6TPhq366kH99"
      },
      "source": [
        "sns.distplot(nyc['daily deaths'])"
      ],
      "execution_count": null,
      "outputs": []
    }
  ]
}