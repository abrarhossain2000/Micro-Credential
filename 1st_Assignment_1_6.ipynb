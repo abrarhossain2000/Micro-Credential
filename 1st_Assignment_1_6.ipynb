{
  "nbformat": 4,
  "nbformat_minor": 0,
  "metadata": {
    "colab": {
      "name": "1st Assignment-1/6.ipynb",
      "provenance": [],
      "authorship_tag": "ABX9TyO0xCYXct/Y3607xmmbGwbY",
      "include_colab_link": true
    },
    "kernelspec": {
      "name": "python3",
      "display_name": "Python 3"
    }
  },
  "cells": [
    {
      "cell_type": "markdown",
      "metadata": {
        "id": "view-in-github",
        "colab_type": "text"
      },
      "source": [
        "<a href=\"https://colab.research.google.com/github/abrarhossain2000/Micro-Credential/blob/main/1st_Assignment_1_6.ipynb\" target=\"_parent\"><img src=\"https://colab.research.google.com/assets/colab-badge.svg\" alt=\"Open In Colab\"/></a>"
      ]
    },
    {
      "cell_type": "code",
      "metadata": {
        "colab": {
          "base_uri": "https://localhost:8080/",
          "height": 130
        },
        "id": "tXFI5b7PkHnO",
        "outputId": "95bc9e57-ab79-482a-ca99-007f447f0c19"
      },
      "source": [
        "#Assignment 1\n",
        "1. Python is a high level programming language that you can use for\n",
        "web development and for data\n",
        "2. A,B,C, & E are all allowed in python\n",
        "3. random_variable = \"hello there!\"\n",
        "4. first_name = input(\"Enter first name: \")\n",
        "last_name = input(\"Enter first name: \")\n",
        "email_ext = \"@gmail.com\"\n",
        "print(first_name + last_name + email_ext)\n",
        "5. name = \"abrar\"\n",
        "print(name.upper())\n",
        "print(name.lower())\n",
        "6. friend = input(\"Do you want to hang out on the 15th of this month?\")\n",
        "print (friend)"
      ],
      "execution_count": 2,
      "outputs": [
        {
          "output_type": "error",
          "ename": "SyntaxError",
          "evalue": "ignored",
          "traceback": [
            "\u001b[0;36m  File \u001b[0;32m\"<ipython-input-2-fc6bc5cf4e74>\"\u001b[0;36m, line \u001b[0;32m1\u001b[0m\n\u001b[0;31m    1. Python is a high level programming language that you can use for\u001b[0m\n\u001b[0m            ^\u001b[0m\n\u001b[0;31mSyntaxError\u001b[0m\u001b[0;31m:\u001b[0m invalid syntax\n"
          ]
        }
      ]
    },
    {
      "cell_type": "code",
      "metadata": {
        "id": "82eTRNirmsNz"
      },
      "source": [
        "#Assignment 2\n",
        "1. Create a list of 5 of your favorite tv shows.\n",
        "shows = ['Star Wars The Clone Wars', 'Peaky Blinders', 'Top Boy', 'One Piece', 'Haunting of Hill House']\n",
        "2. print(shows)\n",
        "3. print(sorted(shows)) #this one sorts the order alphabetically so H comes first\n",
        "shows.sort()\n",
        "print(shows) #sort function sorts the list and replaces the 'original' but does not return anything (this is permanent)\n",
        "#the sorted function returns a sorted copy of the list without changing the 'original' list\n",
        "4.print(shows)\n",
        "5.sorted(shows, reverse = True)\n",
        "6.total_favs = len(shows)\n",
        "print(total_favs)"
      ],
      "execution_count": null,
      "outputs": []
    }
  ]
}