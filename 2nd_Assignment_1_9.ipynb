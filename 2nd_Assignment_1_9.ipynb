{
  "nbformat": 4,
  "nbformat_minor": 0,
  "metadata": {
    "colab": {
      "name": "2nd Assignment- 1/9.ipynb",
      "provenance": [],
      "authorship_tag": "ABX9TyOTvg9UAbphihNtbkPY3rKR",
      "include_colab_link": true
    },
    "kernelspec": {
      "name": "python3",
      "display_name": "Python 3"
    }
  },
  "cells": [
    {
      "cell_type": "markdown",
      "metadata": {
        "id": "view-in-github",
        "colab_type": "text"
      },
      "source": [
        "<a href=\"https://colab.research.google.com/github/abrarhossain2000/Micro-Credential/blob/main/2nd_Assignment_1_9.ipynb\" target=\"_parent\"><img src=\"https://colab.research.google.com/assets/colab-badge.svg\" alt=\"Open In Colab\"/></a>"
      ]
    },
    {
      "cell_type": "markdown",
      "metadata": {
        "id": "qGvJlD_ceWKD"
      },
      "source": [
        "#1.\n",
        "Make a list of 5 or more usernames, including an admin account. \n",
        "Imagine you are writing code that will welcome people to your application \n",
        "on login. Loop through the list and print your greeting."
      ]
    },
    {
      "cell_type": "code",
      "metadata": {
        "colab": {
          "base_uri": "https://localhost:8080/"
        },
        "id": "G73Fwzi-gHNA",
        "outputId": "2ead60a9-b27f-4d00-e1be-6d8d007ef450"
      },
      "source": [
        "usernames_account = ['user1', 'user2', 'admin', 'user3', 'user4', 'user5', 'user6']\n",
        "\n",
        "for username in usernames_account:\n",
        "    if username == 'admin':\n",
        "        print(\"Hello there ADMIN, a lot has changed since you last logged in no?\")\n",
        "    else:\n",
        "        print(\"Hello \" + username + \", thank you for logging in\")"
      ],
      "execution_count": 12,
      "outputs": [
        {
          "output_type": "stream",
          "text": [
            "Hello user1, thank you for logging in\n",
            "Hello user2, thank you for logging in\n",
            "Hello there ADMIN, a lot has changed since you last logged in no?\n",
            "Hello user3, thank you for logging in\n",
            "Hello user4, thank you for logging in\n",
            "Hello user5, thank you for logging in\n",
            "Hello user6, thank you for logging in\n"
          ],
          "name": "stdout"
        }
      ]
    },
    {
      "cell_type": "markdown",
      "metadata": {
        "id": "cy7mZELIgwC9"
      },
      "source": [
        "#2.\n",
        "Store numbers 1-10 in a list\n",
        "a. Loop through the list\n",
        "b. Use an if-elif-else chain inside your loop to print the ordinal ending for each number –\n",
        "for example – 1 st , 2 nd , 3 rd … etc."
      ]
    },
    {
      "cell_type": "code",
      "metadata": {
        "colab": {
          "base_uri": "https://localhost:8080/"
        },
        "id": "i6PCAbB2gwXE",
        "outputId": "c2eb3eb5-a387-45f4-f27d-69cc8b417f1c"
      },
      "source": [
        "numbers = list(range(1,10))\n",
        "\n",
        "for number in numbers:\n",
        "    if number == 1:\n",
        "        print(\"1st\")\n",
        "    elif number == 2:\n",
        "        print(\"2nd\")\n",
        "    elif number == 3:\n",
        "        print(\"3rd\")\n",
        "    else:\n",
        "        print(str(number) + \"th\")"
      ],
      "execution_count": 10,
      "outputs": [
        {
          "output_type": "stream",
          "text": [
            "1st\n",
            "2nd\n",
            "3rd\n",
            "4th\n",
            "5th\n",
            "6th\n",
            "7th\n",
            "8th\n",
            "9th\n"
          ],
          "name": "stdout"
        }
      ]
    }
  ]
}